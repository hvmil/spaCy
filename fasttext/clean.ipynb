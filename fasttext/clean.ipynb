{
 "cells": [
  {
   "cell_type": "code",
   "execution_count": 2,
   "id": "52df56ed",
   "metadata": {},
   "outputs": [],
   "source": [
    "import pandas as pd\n",
    "import numpy as np\n"
   ]
  },
  {
   "cell_type": "code",
   "execution_count": 3,
   "id": "48834e2b",
   "metadata": {},
   "outputs": [
    {
     "data": {
      "text/html": [
       "<div>\n",
       "<style scoped>\n",
       "    .dataframe tbody tr th:only-of-type {\n",
       "        vertical-align: middle;\n",
       "    }\n",
       "\n",
       "    .dataframe tbody tr th {\n",
       "        vertical-align: top;\n",
       "    }\n",
       "\n",
       "    .dataframe thead th {\n",
       "        text-align: right;\n",
       "    }\n",
       "</style>\n",
       "<table border=\"1\" class=\"dataframe\">\n",
       "  <thead>\n",
       "    <tr style=\"text-align: right;\">\n",
       "      <th></th>\n",
       "      <th>ID</th>\n",
       "      <th>Title</th>\n",
       "      <th>Classification</th>\n",
       "      <th>Resp Group</th>\n",
       "      <th>Prim Resp</th>\n",
       "      <th>Initial Resp Group</th>\n",
       "      <th>Resolved By</th>\n",
       "      <th>Type Category</th>\n",
       "      <th>Service Category</th>\n",
       "      <th>Service</th>\n",
       "      <th>Description</th>\n",
       "    </tr>\n",
       "  </thead>\n",
       "  <tbody>\n",
       "    <tr>\n",
       "      <th>0</th>\n",
       "      <td>19684460</td>\n",
       "      <td>Monitoring generated Counter ALARM at 9:28:39 ...</td>\n",
       "      <td>Incident</td>\n",
       "      <td>Desktop Support - Faculty/Staff</td>\n",
       "      <td>Unassigned</td>\n",
       "      <td>Service Desk</td>\n",
       "      <td>Kevin Saunders</td>\n",
       "      <td>General</td>\n",
       "      <td>None</td>\n",
       "      <td>None</td>\n",
       "      <td>Monitoring generated Counter ALARM at 9:28:39 ...</td>\n",
       "    </tr>\n",
       "    <tr>\n",
       "      <th>1</th>\n",
       "      <td>19697541</td>\n",
       "      <td>CSB027 wants admin rights</td>\n",
       "      <td>Incident</td>\n",
       "      <td>Desktop Support - Faculty/Staff</td>\n",
       "      <td>Unassigned</td>\n",
       "      <td>Service Desk</td>\n",
       "      <td>Bridget Goodwin</td>\n",
       "      <td>Service Desk</td>\n",
       "      <td>Classroom &amp; Lab</td>\n",
       "      <td>Classroom and Lab Technology Issues</td>\n",
       "      <td>This is about my office computer; I cannot dow...</td>\n",
       "    </tr>\n",
       "    <tr>\n",
       "      <th>2</th>\n",
       "      <td>19708578</td>\n",
       "      <td>Desktop version of Office 365 not working prop...</td>\n",
       "      <td>Incident</td>\n",
       "      <td>Desktop Support - Faculty/Staff</td>\n",
       "      <td>Brendan Gannon</td>\n",
       "      <td>Service Desk</td>\n",
       "      <td>Brendan Gannon</td>\n",
       "      <td>Systems and Networking</td>\n",
       "      <td>Office 365</td>\n",
       "      <td>Office 365</td>\n",
       "      <td>After a large number of emails came and went t...</td>\n",
       "    </tr>\n",
       "    <tr>\n",
       "      <th>3</th>\n",
       "      <td>19708913</td>\n",
       "      <td>Verify Certificate????</td>\n",
       "      <td>Incident</td>\n",
       "      <td>Desktop Support - Faculty/Staff</td>\n",
       "      <td>Unassigned</td>\n",
       "      <td>Service Desk</td>\n",
       "      <td>Raymond Ransome</td>\n",
       "      <td>Desktop Support</td>\n",
       "      <td>None</td>\n",
       "      <td>None</td>\n",
       "      <td>I have the following message on my computer. S...</td>\n",
       "    </tr>\n",
       "    <tr>\n",
       "      <th>4</th>\n",
       "      <td>19719792</td>\n",
       "      <td>Monitoring generated Counter ALARM at 2:19:24 ...</td>\n",
       "      <td>Incident</td>\n",
       "      <td>Desktop Support - Faculty/Staff</td>\n",
       "      <td>Unassigned</td>\n",
       "      <td>Service Desk</td>\n",
       "      <td>Kevin Saunders</td>\n",
       "      <td>General</td>\n",
       "      <td>None</td>\n",
       "      <td>None</td>\n",
       "      <td>Monitoring generated Counter ALARM at 2:19:24 ...</td>\n",
       "    </tr>\n",
       "  </tbody>\n",
       "</table>\n",
       "</div>"
      ],
      "text/plain": [
       "         ID                                              Title Classification  \\\n",
       "0  19684460  Monitoring generated Counter ALARM at 9:28:39 ...       Incident   \n",
       "1  19697541                          CSB027 wants admin rights       Incident   \n",
       "2  19708578  Desktop version of Office 365 not working prop...       Incident   \n",
       "3  19708913                             Verify Certificate????       Incident   \n",
       "4  19719792  Monitoring generated Counter ALARM at 2:19:24 ...       Incident   \n",
       "\n",
       "                        Resp Group       Prim Resp Initial Resp Group  \\\n",
       "0  Desktop Support - Faculty/Staff      Unassigned       Service Desk   \n",
       "1  Desktop Support - Faculty/Staff      Unassigned       Service Desk   \n",
       "2  Desktop Support - Faculty/Staff  Brendan Gannon       Service Desk   \n",
       "3  Desktop Support - Faculty/Staff      Unassigned       Service Desk   \n",
       "4  Desktop Support - Faculty/Staff      Unassigned       Service Desk   \n",
       "\n",
       "       Resolved By           Type Category Service Category  \\\n",
       "0   Kevin Saunders                 General             None   \n",
       "1  Bridget Goodwin            Service Desk  Classroom & Lab   \n",
       "2   Brendan Gannon  Systems and Networking       Office 365   \n",
       "3  Raymond Ransome         Desktop Support             None   \n",
       "4   Kevin Saunders                 General             None   \n",
       "\n",
       "                               Service  \\\n",
       "0                                 None   \n",
       "1  Classroom and Lab Technology Issues   \n",
       "2                           Office 365   \n",
       "3                                 None   \n",
       "4                                 None   \n",
       "\n",
       "                                         Description  \n",
       "0  Monitoring generated Counter ALARM at 9:28:39 ...  \n",
       "1  This is about my office computer; I cannot dow...  \n",
       "2  After a large number of emails came and went t...  \n",
       "3  I have the following message on my computer. S...  \n",
       "4  Monitoring generated Counter ALARM at 2:19:24 ...  "
      ]
     },
     "execution_count": 3,
     "metadata": {},
     "output_type": "execute_result"
    }
   ],
   "source": [
    "df = pd.read_csv('Training_Data.csv', encoding='cp1252')\n",
    "df.head()"
   ]
  },
  {
   "cell_type": "code",
   "execution_count": 4,
   "id": "696fd121",
   "metadata": {},
   "outputs": [],
   "source": [
    "to_drop = ['ID','Classification', 'Resp Group', 'Prim Resp', \n",
    "           'Initial Resp Group', 'Type Category',\n",
    "           'Service Category','Service']\n",
    "\n",
    "df.drop(to_drop, inplace=True, axis = 1)"
   ]
  },
  {
   "cell_type": "code",
   "execution_count": 5,
   "id": "589fc39e",
   "metadata": {},
   "outputs": [],
   "source": [
    "df = df[df[\"Title\"].str.contains(\"Monitoring generated Counter\") == False]"
   ]
  },
  {
   "cell_type": "code",
   "execution_count": 6,
   "id": "2c458a50",
   "metadata": {},
   "outputs": [],
   "source": [
    "#df.to_csv('cleaned.csv', index = False)\n",
    "df['Title_Desc'] = df['Title'] + '. '+ df['Description']\n",
    "df = df.drop(columns=['Title','Description'], axis = 1)"
   ]
  },
  {
   "cell_type": "code",
   "execution_count": 7,
   "id": "d4fd25d2",
   "metadata": {},
   "outputs": [
    {
     "data": {
      "text/html": [
       "<div>\n",
       "<style scoped>\n",
       "    .dataframe tbody tr th:only-of-type {\n",
       "        vertical-align: middle;\n",
       "    }\n",
       "\n",
       "    .dataframe tbody tr th {\n",
       "        vertical-align: top;\n",
       "    }\n",
       "\n",
       "    .dataframe thead th {\n",
       "        text-align: right;\n",
       "    }\n",
       "</style>\n",
       "<table border=\"1\" class=\"dataframe\">\n",
       "  <thead>\n",
       "    <tr style=\"text-align: right;\">\n",
       "      <th></th>\n",
       "      <th>Resolved By</th>\n",
       "      <th>Title_Desc</th>\n",
       "    </tr>\n",
       "  </thead>\n",
       "  <tbody>\n",
       "    <tr>\n",
       "      <th>1</th>\n",
       "      <td>Bridget Goodwin</td>\n",
       "      <td>CSB027 wants admin rights. This is about my of...</td>\n",
       "    </tr>\n",
       "    <tr>\n",
       "      <th>2</th>\n",
       "      <td>Brendan Gannon</td>\n",
       "      <td>Desktop version of Office 365 not working prop...</td>\n",
       "    </tr>\n",
       "    <tr>\n",
       "      <th>3</th>\n",
       "      <td>Raymond Ransome</td>\n",
       "      <td>Verify Certificate????. I have the following m...</td>\n",
       "    </tr>\n",
       "    <tr>\n",
       "      <th>5</th>\n",
       "      <td>NaN</td>\n",
       "      <td>can't download paycheck. Since 2022 I have not...</td>\n",
       "    </tr>\n",
       "    <tr>\n",
       "      <th>7</th>\n",
       "      <td>NaN</td>\n",
       "      <td>Would like license to use Microsoft Project. I...</td>\n",
       "    </tr>\n",
       "  </tbody>\n",
       "</table>\n",
       "</div>"
      ],
      "text/plain": [
       "       Resolved By                                         Title_Desc\n",
       "1  Bridget Goodwin  CSB027 wants admin rights. This is about my of...\n",
       "2   Brendan Gannon  Desktop version of Office 365 not working prop...\n",
       "3  Raymond Ransome  Verify Certificate????. I have the following m...\n",
       "5              NaN  can't download paycheck. Since 2022 I have not...\n",
       "7              NaN  Would like license to use Microsoft Project. I..."
      ]
     },
     "execution_count": 7,
     "metadata": {},
     "output_type": "execute_result"
    }
   ],
   "source": [
    "df.head()"
   ]
  },
  {
   "cell_type": "code",
   "execution_count": 8,
   "id": "bcf00cf1",
   "metadata": {},
   "outputs": [
    {
     "name": "stderr",
     "output_type": "stream",
     "text": [
      "/var/folders/7c/1pb93yr17518btwt8gc_hnr40000gn/T/ipykernel_92728/3843029218.py:2: FutureWarning: The default value of regex will change from True to False in a future version.\n",
      "  df['Title_Desc'] = df['Title_Desc'].str.replace(r'\\D', '')\n"
     ]
    }
   ],
   "source": [
    "#df.to_csv('cleaned_data.csv', index = False)\n",
    "df['Title_Desc'] = df['Title_Desc'].str.replace(r'\\D', '')"
   ]
  },
  {
   "cell_type": "code",
   "execution_count": null,
   "id": "92bfcb8d",
   "metadata": {},
   "outputs": [],
   "source": [
    "df.head()"
   ]
  },
  {
   "cell_type": "code",
   "execution_count": null,
   "id": "166b5498",
   "metadata": {},
   "outputs": [],
   "source": [
    "#Training Model\n",
    "import fasttext\n",
    "\n",
    "model = fasttext.train_supervised(input=\"t.train\")\n",
    "model.test(\"ecommerce.test\")"
   ]
  }
 ],
 "metadata": {
  "kernelspec": {
   "display_name": "Python 3 (ipykernel)",
   "language": "python",
   "name": "python3"
  },
  "language_info": {
   "codemirror_mode": {
    "name": "ipython",
    "version": 3
   },
   "file_extension": ".py",
   "mimetype": "text/x-python",
   "name": "python",
   "nbconvert_exporter": "python",
   "pygments_lexer": "ipython3",
   "version": "3.10.6"
  }
 },
 "nbformat": 4,
 "nbformat_minor": 5
}
