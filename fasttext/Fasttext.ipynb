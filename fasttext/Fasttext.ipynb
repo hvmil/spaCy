{
 "cells": [
  {
   "cell_type": "code",
   "execution_count": 1,
   "id": "3afba4bb",
   "metadata": {},
   "outputs": [],
   "source": [
    "import pandas as pd\n",
    "import numpy as np\n",
    "import spacy"
   ]
  },
  {
   "cell_type": "code",
   "execution_count": 2,
   "id": "a2511e0b",
   "metadata": {},
   "outputs": [],
   "source": [
    "df = pd.read_csv('cleaned_data.csv')\n",
    "df = df.dropna()\n"
   ]
  },
  {
   "cell_type": "code",
   "execution_count": 3,
   "id": "83e89a94",
   "metadata": {},
   "outputs": [
    {
     "data": {
      "text/plain": [
       "(85, 2)"
      ]
     },
     "execution_count": 3,
     "metadata": {},
     "output_type": "execute_result"
    }
   ],
   "source": [
    "df.shape"
   ]
  },
  {
   "cell_type": "code",
   "execution_count": 4,
   "id": "c9740b02",
   "metadata": {},
   "outputs": [
    {
     "data": {
      "text/plain": [
       "Brendan Gannon            29\n",
       "Raymond Ransome           17\n",
       "Bridget Goodwin           16\n",
       "System User                7\n",
       "Kevin Saunders             6\n",
       "Nikolai Nesteroke          4\n",
       "Micaela Chaves-Caetano     1\n",
       "Tom Blake                  1\n",
       "Mia Grace Naglieri         1\n",
       "Sai Pavan Veluguri         1\n",
       "Paul Chauvet               1\n",
       "David Dixon                1\n",
       "Name: Resolved By, dtype: int64"
      ]
     },
     "execution_count": 4,
     "metadata": {},
     "output_type": "execute_result"
    }
   ],
   "source": [
    "df['Resolved By'].value_counts()"
   ]
  },
  {
   "cell_type": "code",
   "execution_count": 5,
   "id": "30c7c033",
   "metadata": {},
   "outputs": [],
   "source": [
    "nlp = spacy.load(\"en_core_web_lg\")"
   ]
  },
  {
   "cell_type": "code",
   "execution_count": 6,
   "id": "58b18a2c",
   "metadata": {},
   "outputs": [
    {
     "data": {
      "text/html": [
       "<div>\n",
       "<style scoped>\n",
       "    .dataframe tbody tr th:only-of-type {\n",
       "        vertical-align: middle;\n",
       "    }\n",
       "\n",
       "    .dataframe tbody tr th {\n",
       "        vertical-align: top;\n",
       "    }\n",
       "\n",
       "    .dataframe thead th {\n",
       "        text-align: right;\n",
       "    }\n",
       "</style>\n",
       "<table border=\"1\" class=\"dataframe\">\n",
       "  <thead>\n",
       "    <tr style=\"text-align: right;\">\n",
       "      <th></th>\n",
       "      <th>Resolved By</th>\n",
       "      <th>Title_Desc</th>\n",
       "    </tr>\n",
       "  </thead>\n",
       "  <tbody>\n",
       "    <tr>\n",
       "      <th>0</th>\n",
       "      <td>Bridget Goodwin</td>\n",
       "      <td>CSB027 wants admin rights. This is about my of...</td>\n",
       "    </tr>\n",
       "    <tr>\n",
       "      <th>1</th>\n",
       "      <td>Brendan Gannon</td>\n",
       "      <td>Desktop version of Office 365 not working prop...</td>\n",
       "    </tr>\n",
       "    <tr>\n",
       "      <th>2</th>\n",
       "      <td>Raymond Ransome</td>\n",
       "      <td>Verify Certificate????. I have the following m...</td>\n",
       "    </tr>\n",
       "    <tr>\n",
       "      <th>5</th>\n",
       "      <td>Micaela Chaves-Caetano</td>\n",
       "      <td>Re: The sound setting issue. Hi, \\n\\n \\n \\n\\n\\...</td>\n",
       "    </tr>\n",
       "    <tr>\n",
       "      <th>6</th>\n",
       "      <td>Raymond Ransome</td>\n",
       "      <td>Re: The sound setting issue. Hi, \\n \\nIf Ray i...</td>\n",
       "    </tr>\n",
       "  </tbody>\n",
       "</table>\n",
       "</div>"
      ],
      "text/plain": [
       "              Resolved By                                         Title_Desc\n",
       "0         Bridget Goodwin  CSB027 wants admin rights. This is about my of...\n",
       "1          Brendan Gannon  Desktop version of Office 365 not working prop...\n",
       "2         Raymond Ransome  Verify Certificate????. I have the following m...\n",
       "5  Micaela Chaves-Caetano  Re: The sound setting issue. Hi, \\n\\n \\n \\n\\n\\...\n",
       "6         Raymond Ransome  Re: The sound setting issue. Hi, \\n \\nIf Ray i..."
      ]
     },
     "execution_count": 6,
     "metadata": {},
     "output_type": "execute_result"
    }
   ],
   "source": [
    "#df['label_num'] = df['Resolved By'].map({'Brendan Gannon':0, 'Raymond Ransome': 1, 'Bridget Goodwin':2,\n",
    "#                                        'Kevin Saunders':3,'Nikolai Nesteroke':4, 'Micaela Chaves-Caetano':5,\n",
    "#                                        'Tom Blake':6, 'Mia Grace Naglieri':7, 'Sai Pavan Veluguri':8,\n",
    "#                                        'Paul Chauvet':9, 'David Dixon':10, 'System User':11 })\n",
    "df.head()"
   ]
  },
  {
   "cell_type": "code",
   "execution_count": 7,
   "id": "71ff739d",
   "metadata": {},
   "outputs": [
    {
     "data": {
      "text/plain": [
       "array(['Bridget Goodwin', 'Brendan Gannon', 'Raymond Ransome',\n",
       "       'Micaela Chaves-Caetano', 'Kevin Saunders', 'Tom Blake',\n",
       "       'System User', 'Mia Grace Naglieri', 'Sai Pavan Veluguri',\n",
       "       'Paul Chauvet', 'David Dixon', 'Nikolai Nesteroke'], dtype=object)"
      ]
     },
     "execution_count": 7,
     "metadata": {},
     "output_type": "execute_result"
    }
   ],
   "source": [
    "df['Resolved By'].unique()"
   ]
  },
  {
   "cell_type": "code",
   "execution_count": 8,
   "id": "00da6c1f",
   "metadata": {},
   "outputs": [
    {
     "data": {
      "text/html": [
       "<div>\n",
       "<style scoped>\n",
       "    .dataframe tbody tr th:only-of-type {\n",
       "        vertical-align: middle;\n",
       "    }\n",
       "\n",
       "    .dataframe tbody tr th {\n",
       "        vertical-align: top;\n",
       "    }\n",
       "\n",
       "    .dataframe thead th {\n",
       "        text-align: right;\n",
       "    }\n",
       "</style>\n",
       "<table border=\"1\" class=\"dataframe\">\n",
       "  <thead>\n",
       "    <tr style=\"text-align: right;\">\n",
       "      <th></th>\n",
       "      <th>Resolved By</th>\n",
       "      <th>Title_Desc</th>\n",
       "    </tr>\n",
       "  </thead>\n",
       "  <tbody>\n",
       "    <tr>\n",
       "      <th>0</th>\n",
       "      <td>__label__Bridget Goodwin</td>\n",
       "      <td>CSB027 wants admin rights. This is about my of...</td>\n",
       "    </tr>\n",
       "    <tr>\n",
       "      <th>1</th>\n",
       "      <td>__label__Brendan Gannon</td>\n",
       "      <td>Desktop version of Office 365 not working prop...</td>\n",
       "    </tr>\n",
       "    <tr>\n",
       "      <th>2</th>\n",
       "      <td>__label__Raymond Ransome</td>\n",
       "      <td>Verify Certificate????. I have the following m...</td>\n",
       "    </tr>\n",
       "    <tr>\n",
       "      <th>5</th>\n",
       "      <td>__label__Micaela Chaves-Caetano</td>\n",
       "      <td>Re: The sound setting issue. Hi, \\n\\n \\n \\n\\n\\...</td>\n",
       "    </tr>\n",
       "    <tr>\n",
       "      <th>6</th>\n",
       "      <td>__label__Raymond Ransome</td>\n",
       "      <td>Re: The sound setting issue. Hi, \\n \\nIf Ray i...</td>\n",
       "    </tr>\n",
       "  </tbody>\n",
       "</table>\n",
       "</div>"
      ],
      "text/plain": [
       "                       Resolved By  \\\n",
       "0         __label__Bridget Goodwin   \n",
       "1          __label__Brendan Gannon   \n",
       "2         __label__Raymond Ransome   \n",
       "5  __label__Micaela Chaves-Caetano   \n",
       "6         __label__Raymond Ransome   \n",
       "\n",
       "                                          Title_Desc  \n",
       "0  CSB027 wants admin rights. This is about my of...  \n",
       "1  Desktop version of Office 365 not working prop...  \n",
       "2  Verify Certificate????. I have the following m...  \n",
       "5  Re: The sound setting issue. Hi, \\n\\n \\n \\n\\n\\...  \n",
       "6  Re: The sound setting issue. Hi, \\n \\nIf Ray i...  "
      ]
     },
     "execution_count": 8,
     "metadata": {},
     "output_type": "execute_result"
    }
   ],
   "source": [
    "df['Resolved By'] = \"__label__\" + df['Resolved By'].astype(str)\n",
    "df.head()"
   ]
  },
  {
   "cell_type": "code",
   "execution_count": 9,
   "id": "670b7e6c",
   "metadata": {},
   "outputs": [
    {
     "data": {
      "text/html": [
       "<div>\n",
       "<style scoped>\n",
       "    .dataframe tbody tr th:only-of-type {\n",
       "        vertical-align: middle;\n",
       "    }\n",
       "\n",
       "    .dataframe tbody tr th {\n",
       "        vertical-align: top;\n",
       "    }\n",
       "\n",
       "    .dataframe thead th {\n",
       "        text-align: right;\n",
       "    }\n",
       "</style>\n",
       "<table border=\"1\" class=\"dataframe\">\n",
       "  <thead>\n",
       "    <tr style=\"text-align: right;\">\n",
       "      <th></th>\n",
       "      <th>Resolved By</th>\n",
       "      <th>Title_Desc</th>\n",
       "      <th>category_desc</th>\n",
       "    </tr>\n",
       "  </thead>\n",
       "  <tbody>\n",
       "    <tr>\n",
       "      <th>0</th>\n",
       "      <td>__label__Bridget Goodwin</td>\n",
       "      <td>CSB027 wants admin rights. This is about my of...</td>\n",
       "      <td>__label__Bridget GoodwinCSB027 wants admin rig...</td>\n",
       "    </tr>\n",
       "    <tr>\n",
       "      <th>1</th>\n",
       "      <td>__label__Brendan Gannon</td>\n",
       "      <td>Desktop version of Office 365 not working prop...</td>\n",
       "      <td>__label__Brendan GannonDesktop version of Offi...</td>\n",
       "    </tr>\n",
       "    <tr>\n",
       "      <th>2</th>\n",
       "      <td>__label__Raymond Ransome</td>\n",
       "      <td>Verify Certificate????. I have the following m...</td>\n",
       "      <td>__label__Raymond RansomeVerify Certificate????...</td>\n",
       "    </tr>\n",
       "    <tr>\n",
       "      <th>5</th>\n",
       "      <td>__label__Micaela Chaves-Caetano</td>\n",
       "      <td>Re: The sound setting issue. Hi, \\n\\n \\n \\n\\n\\...</td>\n",
       "      <td>__label__Micaela Chaves-CaetanoRe: The sound s...</td>\n",
       "    </tr>\n",
       "    <tr>\n",
       "      <th>6</th>\n",
       "      <td>__label__Raymond Ransome</td>\n",
       "      <td>Re: The sound setting issue. Hi, \\n \\nIf Ray i...</td>\n",
       "      <td>__label__Raymond RansomeRe: The sound setting ...</td>\n",
       "    </tr>\n",
       "  </tbody>\n",
       "</table>\n",
       "</div>"
      ],
      "text/plain": [
       "                       Resolved By  \\\n",
       "0         __label__Bridget Goodwin   \n",
       "1          __label__Brendan Gannon   \n",
       "2         __label__Raymond Ransome   \n",
       "5  __label__Micaela Chaves-Caetano   \n",
       "6         __label__Raymond Ransome   \n",
       "\n",
       "                                          Title_Desc  \\\n",
       "0  CSB027 wants admin rights. This is about my of...   \n",
       "1  Desktop version of Office 365 not working prop...   \n",
       "2  Verify Certificate????. I have the following m...   \n",
       "5  Re: The sound setting issue. Hi, \\n\\n \\n \\n\\n\\...   \n",
       "6  Re: The sound setting issue. Hi, \\n \\nIf Ray i...   \n",
       "\n",
       "                                       category_desc  \n",
       "0  __label__Bridget GoodwinCSB027 wants admin rig...  \n",
       "1  __label__Brendan GannonDesktop version of Offi...  \n",
       "2  __label__Raymond RansomeVerify Certificate????...  \n",
       "5  __label__Micaela Chaves-CaetanoRe: The sound s...  \n",
       "6  __label__Raymond RansomeRe: The sound setting ...  "
      ]
     },
     "execution_count": 9,
     "metadata": {},
     "output_type": "execute_result"
    }
   ],
   "source": [
    "df['category_desc'] = df['Resolved By'] + df['Title_Desc']\n",
    "df.head()"
   ]
  },
  {
   "cell_type": "code",
   "execution_count": 10,
   "id": "4e33a6b5",
   "metadata": {},
   "outputs": [],
   "source": [
    "#preprocessing\n",
    "#Remove punctuation\n",
    "#Remove extra space\n",
    "#Make the entire sentence lower case\n",
    "\n",
    "import re\n",
    "\n",
    "def preprocess(text):\n",
    "    text = re.sub(r'[^\\w\\s\\']',' ', text)\n",
    "    text = re.sub(' +', ' ', text)\n",
    "    return text.strip().lower() "
   ]
  },
  {
   "cell_type": "code",
   "execution_count": 11,
   "id": "07ea32f4",
   "metadata": {},
   "outputs": [
    {
     "data": {
      "text/html": [
       "<div>\n",
       "<style scoped>\n",
       "    .dataframe tbody tr th:only-of-type {\n",
       "        vertical-align: middle;\n",
       "    }\n",
       "\n",
       "    .dataframe tbody tr th {\n",
       "        vertical-align: top;\n",
       "    }\n",
       "\n",
       "    .dataframe thead th {\n",
       "        text-align: right;\n",
       "    }\n",
       "</style>\n",
       "<table border=\"1\" class=\"dataframe\">\n",
       "  <thead>\n",
       "    <tr style=\"text-align: right;\">\n",
       "      <th></th>\n",
       "      <th>Resolved By</th>\n",
       "      <th>Title_Desc</th>\n",
       "      <th>category_desc</th>\n",
       "    </tr>\n",
       "  </thead>\n",
       "  <tbody>\n",
       "    <tr>\n",
       "      <th>0</th>\n",
       "      <td>__label__Bridget Goodwin</td>\n",
       "      <td>CSB027 wants admin rights. This is about my of...</td>\n",
       "      <td>__label__bridget goodwincsb027 wants admin rig...</td>\n",
       "    </tr>\n",
       "    <tr>\n",
       "      <th>1</th>\n",
       "      <td>__label__Brendan Gannon</td>\n",
       "      <td>Desktop version of Office 365 not working prop...</td>\n",
       "      <td>__label__brendan gannondesktop version of offi...</td>\n",
       "    </tr>\n",
       "    <tr>\n",
       "      <th>2</th>\n",
       "      <td>__label__Raymond Ransome</td>\n",
       "      <td>Verify Certificate????. I have the following m...</td>\n",
       "      <td>__label__raymond ransomeverify certificate i h...</td>\n",
       "    </tr>\n",
       "    <tr>\n",
       "      <th>5</th>\n",
       "      <td>__label__Micaela Chaves-Caetano</td>\n",
       "      <td>Re: The sound setting issue. Hi, \\n\\n \\n \\n\\n\\...</td>\n",
       "      <td>__label__micaela chaves caetanore the sound se...</td>\n",
       "    </tr>\n",
       "    <tr>\n",
       "      <th>6</th>\n",
       "      <td>__label__Raymond Ransome</td>\n",
       "      <td>Re: The sound setting issue. Hi, \\n \\nIf Ray i...</td>\n",
       "      <td>__label__raymond ransomere the sound setting i...</td>\n",
       "    </tr>\n",
       "  </tbody>\n",
       "</table>\n",
       "</div>"
      ],
      "text/plain": [
       "                       Resolved By  \\\n",
       "0         __label__Bridget Goodwin   \n",
       "1          __label__Brendan Gannon   \n",
       "2         __label__Raymond Ransome   \n",
       "5  __label__Micaela Chaves-Caetano   \n",
       "6         __label__Raymond Ransome   \n",
       "\n",
       "                                          Title_Desc  \\\n",
       "0  CSB027 wants admin rights. This is about my of...   \n",
       "1  Desktop version of Office 365 not working prop...   \n",
       "2  Verify Certificate????. I have the following m...   \n",
       "5  Re: The sound setting issue. Hi, \\n\\n \\n \\n\\n\\...   \n",
       "6  Re: The sound setting issue. Hi, \\n \\nIf Ray i...   \n",
       "\n",
       "                                       category_desc  \n",
       "0  __label__bridget goodwincsb027 wants admin rig...  \n",
       "1  __label__brendan gannondesktop version of offi...  \n",
       "2  __label__raymond ransomeverify certificate i h...  \n",
       "5  __label__micaela chaves caetanore the sound se...  \n",
       "6  __label__raymond ransomere the sound setting i...  "
      ]
     },
     "execution_count": 11,
     "metadata": {},
     "output_type": "execute_result"
    }
   ],
   "source": [
    "df['category_desc'] = df['category_desc'].map(preprocess)\n",
    "df.head()"
   ]
  },
  {
   "cell_type": "code",
   "execution_count": 12,
   "id": "3fe6c71b",
   "metadata": {},
   "outputs": [],
   "source": [
    "#Training\n",
    "from sklearn.model_selection import train_test_split\n",
    "\n",
    "train, test = train_test_split(df, test_size=0.2)"
   ]
  },
  {
   "cell_type": "code",
   "execution_count": 13,
   "id": "8bd0045f",
   "metadata": {},
   "outputs": [
    {
     "data": {
      "text/plain": [
       "((68, 3), (17, 3))"
      ]
     },
     "execution_count": 13,
     "metadata": {},
     "output_type": "execute_result"
    }
   ],
   "source": [
    "train.shape, test.shape"
   ]
  },
  {
   "cell_type": "code",
   "execution_count": 14,
   "id": "383a0adc",
   "metadata": {},
   "outputs": [],
   "source": [
    "#Train test split\n",
    "train.to_csv(\"tickets.train\", columns = [\"category_desc\"], index = False, header = False)\n",
    "test.to_csv(\"tickets.test\", columns = [\"category_desc\"], index = False, header = False)"
   ]
  },
  {
   "cell_type": "code",
   "execution_count": 15,
   "id": "ed742212",
   "metadata": {},
   "outputs": [
    {
     "name": "stderr",
     "output_type": "stream",
     "text": [
      "\r",
      "Read 0M words\n",
      "Number of words:  1479\n",
      "Number of labels: 5\n",
      "\r",
      "Progress: 100.1% words/sec/thread:  119000 lr: -0.000051 avg.loss:  1.613351 ETA:   0h 0m 0s\r",
      "Progress: 100.0% words/sec/thread:  118813 lr:  0.000000 avg.loss:  1.613351 ETA:   0h 0m 0s\n"
     ]
    },
    {
     "data": {
      "text/plain": [
       "(9, 0.3333333333333333, 0.3333333333333333)"
      ]
     },
     "execution_count": 15,
     "metadata": {},
     "output_type": "execute_result"
    }
   ],
   "source": [
    "#Training and evaluating model\n",
    "import fasttext\n",
    "\n",
    "#First parameter (10) is test size. Second and third parameters are precision and recall respectively.\n",
    "#really bad(10,0.3,0.3)\n",
    "model = fasttext.train_supervised(input=\"tickets.train\")\n",
    "model.test(\"tickets.test\")"
   ]
  },
  {
   "cell_type": "code",
   "execution_count": 16,
   "id": "501401d5",
   "metadata": {},
   "outputs": [
    {
     "data": {
      "text/plain": [
       "(('__label__brendan',), array([0.20001437]))"
      ]
     },
     "execution_count": 16,
     "metadata": {},
     "output_type": "execute_result"
    }
   ],
   "source": [
    "#Predictions\n",
    "model.predict(\"I am having wifi problems\")"
   ]
  },
  {
   "cell_type": "code",
   "execution_count": 17,
   "id": "aa7d42f7",
   "metadata": {},
   "outputs": [
    {
     "data": {
      "text/plain": [
       "(('__label__brendan',), array([0.20002899]))"
      ]
     },
     "execution_count": 17,
     "metadata": {},
     "output_type": "execute_result"
    }
   ],
   "source": [
    "model.predict(\"projector not working\")"
   ]
  },
  {
   "cell_type": "code",
   "execution_count": 18,
   "id": "5540bfcb",
   "metadata": {},
   "outputs": [
    {
     "data": {
      "text/plain": [
       "(('__label__brendan',), array([0.20003112]))"
      ]
     },
     "execution_count": 18,
     "metadata": {},
     "output_type": "execute_result"
    }
   ],
   "source": [
    "model.predict(\"adobe is not working\")"
   ]
  },
  {
   "cell_type": "code",
   "execution_count": 19,
   "id": "15cf2dae",
   "metadata": {},
   "outputs": [
    {
     "data": {
      "text/plain": [
       "(('__label__raymond',), array([0.20002508]))"
      ]
     },
     "execution_count": 19,
     "metadata": {},
     "output_type": "execute_result"
    }
   ],
   "source": [
    "model.predict(\"computer speakers are not working\")"
   ]
  },
  {
   "cell_type": "code",
   "execution_count": 20,
   "id": "583ea19d",
   "metadata": {},
   "outputs": [
    {
     "data": {
      "text/plain": [
       "(('__label__raymond',), array([0.20002508]))"
      ]
     },
     "execution_count": 20,
     "metadata": {},
     "output_type": "execute_result"
    }
   ],
   "source": [
    "model.predict(\"my computer and computer screen will not turn on\")"
   ]
  },
  {
   "cell_type": "code",
   "execution_count": 21,
   "id": "540e6631",
   "metadata": {},
   "outputs": [
    {
     "data": {
      "text/plain": [
       "[(0.0, 'the'),\n",
       " (0.0, 'and'),\n",
       " (0.0, 'a'),\n",
       " (0.0, 'new'),\n",
       " (0.0, 'in'),\n",
       " (0.0, 'on'),\n",
       " (0.0, 'gannonno'),\n",
       " (0.0, 'talk'),\n",
       " (0.0, 'case'),\n",
       " (0.0, '3')]"
      ]
     },
     "execution_count": 21,
     "metadata": {},
     "output_type": "execute_result"
    }
   ],
   "source": [
    "model.get_nearest_neighbors(\"Speakers\")"
   ]
  },
  {
   "cell_type": "code",
   "execution_count": 22,
   "id": "215e57d6",
   "metadata": {},
   "outputs": [
    {
     "data": {
      "text/plain": [
       "(('__label__brendan',), array([0.20002766]))"
      ]
     },
     "execution_count": 22,
     "metadata": {},
     "output_type": "execute_result"
    }
   ],
   "source": [
    "model.predict(\"hello   my name is kellian collins and my office is in old main room 218a   my computer and computer screen will not turn on the power strip that everything is plugged into also will not turn on   you have my permission to go into my office at any time to fix the problem\")"
   ]
  },
  {
   "cell_type": "code",
   "execution_count": 23,
   "id": "22c5d9f7",
   "metadata": {},
   "outputs": [
    {
     "data": {
      "text/plain": [
       "(('__label__brendan',), array([0.20002355]))"
      ]
     },
     "execution_count": 23,
     "metadata": {},
     "output_type": "execute_result"
    }
   ],
   "source": [
    "model.predict(\"Hello, I am having trouble logging into the school's website. \")"
   ]
  },
  {
   "cell_type": "code",
   "execution_count": 24,
   "id": "3332f21e",
   "metadata": {},
   "outputs": [
    {
     "data": {
      "text/plain": [
       "(('__label__brendan',), array([0.2000307]))"
      ]
     },
     "execution_count": 24,
     "metadata": {},
     "output_type": "execute_result"
    }
   ],
   "source": [
    "model.predict(\"The speakers in my classroom are not working\")"
   ]
  },
  {
   "cell_type": "code",
   "execution_count": 25,
   "id": "35c3e383",
   "metadata": {},
   "outputs": [
    {
     "data": {
      "text/plain": [
       "(('__label__brendan',), array([0.2000262]))"
      ]
     },
     "execution_count": 25,
     "metadata": {},
     "output_type": "execute_result"
    }
   ],
   "source": [
    "model.predict(\"raymond can you help me with my speakers\")"
   ]
  },
  {
   "cell_type": "code",
   "execution_count": 26,
   "id": "bb2245c1",
   "metadata": {},
   "outputs": [
    {
     "data": {
      "text/plain": [
       "(('__label__brendan',), array([0.20002192]))"
      ]
     },
     "execution_count": 26,
     "metadata": {},
     "output_type": "execute_result"
    }
   ],
   "source": [
    "model.predict(\"I need help logging in Bridget\")"
   ]
  },
  {
   "cell_type": "code",
   "execution_count": null,
   "id": "fd29f2d4",
   "metadata": {},
   "outputs": [],
   "source": []
  }
 ],
 "metadata": {
  "kernelspec": {
   "display_name": "Python 3 (ipykernel)",
   "language": "python",
   "name": "python3"
  },
  "language_info": {
   "codemirror_mode": {
    "name": "ipython",
    "version": 3
   },
   "file_extension": ".py",
   "mimetype": "text/x-python",
   "name": "python",
   "nbconvert_exporter": "python",
   "pygments_lexer": "ipython3",
   "version": "3.10.6"
  }
 },
 "nbformat": 4,
 "nbformat_minor": 5
}
